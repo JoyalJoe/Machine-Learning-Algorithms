{
 "cells": [
  {
   "cell_type": "code",
   "execution_count": 1,
   "id": "874f1cbd",
   "metadata": {},
   "outputs": [],
   "source": [
    "# Importing required modules\n",
    "import numpy as np\n",
    "import pandas as pd\n",
    "from sklearn.ensemble import GradientBoostingRegressor\n",
    "from sklearn.preprocessing import LabelEncoder "
   ]
  },
  {
   "cell_type": "code",
   "execution_count": 2,
   "id": "eb01d99d",
   "metadata": {},
   "outputs": [],
   "source": [
    "# Let us create the Data-Frame for above \n",
    "X=pd.DataFrame({'LikesExercising':[False,False,False,True,False,True,True,True,True],\n",
    "                'GotoGym':[True,True,True,True,True,False,True,False,False],\n",
    "                 'DrivesCar':[True,False,False,True,True,False,True,False,True]})\n",
    "Y=pd.Series(name='Age',data=[14,15,16,26,36,50,69,72,74])"
   ]
  },
  {
   "cell_type": "code",
   "execution_count": 3,
   "id": "a59f15a2",
   "metadata": {},
   "outputs": [],
   "source": [
    "# Let us encode true and false to number value 0 and 1\n",
    "LE=LabelEncoder()\n",
    "X['LikesExercising']=LE.fit_transform(X['LikesExercising'])\n",
    "X['GotoGym']=LE.fit_transform(X['GotoGym'])\n",
    "X['DrivesCar']=LE.fit_transform(X['DrivesCar'])"
   ]
  },
  {
   "cell_type": "code",
   "execution_count": 4,
   "id": "99869f17",
   "metadata": {},
   "outputs": [],
   "source": [
    "#We will now see the effect of different numbers of estimators on MSE.\n",
    "# 1) Let us now use  GradientBoostingRegressor with 2 estimators to train the model and to predict the age for the same inputs. \n",
    "GB=GradientBoostingRegressor(n_estimators=2)"
   ]
  },
  {
   "cell_type": "code",
   "execution_count": 5,
   "id": "fc3e97c2",
   "metadata": {},
   "outputs": [
    {
     "data": {
      "text/plain": [
       "array([38.23 , 36.425, 36.425, 42.505, 38.23 , 45.07 , 42.505, 45.07 ,\n",
       "       47.54 ])"
      ]
     },
     "execution_count": 5,
     "metadata": {},
     "output_type": "execute_result"
    }
   ],
   "source": [
    "GB.fit(X,Y)\n",
    "Y_predict=GB.predict(X) #ages predicted by model with 2 estimators \n",
    "Y_predict"
   ]
  },
  {
   "cell_type": "code",
   "execution_count": 6,
   "id": "ad5b396f",
   "metadata": {},
   "outputs": [
    {
     "name": "stdout",
     "output_type": "stream",
     "text": [
      "MSE for two estimators : 432.48205555555546\n"
     ]
    }
   ],
   "source": [
    "MSE_2=(sum((Y-Y_predict)**2))/len(Y)\n",
    "print('MSE for two estimators :',MSE_2)\n",
    "#Output: MSE for two estimators : 432.482055555546"
   ]
  },
  {
   "cell_type": "code",
   "execution_count": 7,
   "id": "89235f79",
   "metadata": {},
   "outputs": [
    {
     "data": {
      "text/plain": [
       "array([36.907 , 34.3325, 34.3325, 43.0045, 36.907 , 46.663 , 43.0045,\n",
       "       46.663 , 50.186 ])"
      ]
     },
     "execution_count": 7,
     "metadata": {},
     "output_type": "execute_result"
    }
   ],
   "source": [
    "# 2) Let us now use GradientBoostingRegressor with 3 estimators to train the model and to predict the age for the same inputs. \n",
    "GB=GradientBoostingRegressor(n_estimators=3)\n",
    "GB.fit(X,Y)\n",
    "Y_predict=GB.predict(X) #ages predicted by model with 3 estimators\n",
    "Y_predict"
   ]
  },
  {
   "cell_type": "code",
   "execution_count": 8,
   "id": "87a4aec7",
   "metadata": {},
   "outputs": [
    {
     "name": "stdout",
     "output_type": "stream",
     "text": [
      "MSE for three estimators : 380.05602055555556\n"
     ]
    }
   ],
   "source": [
    "#Following code is used to find out MSE of prediction with Gradient boosting algorithm having estimator 3.\n",
    "MSE_3=(sum((Y-Y_predict)**2))/len(Y)\n",
    "print('MSE for three estimators :',MSE_3)"
   ]
  },
  {
   "cell_type": "code",
   "execution_count": 9,
   "id": "53ea3340",
   "metadata": {},
   "outputs": [
    {
     "data": {
      "text/plain": [
       "array([25.08417833, 15.63313919, 15.63313919, 47.46821839, 25.08417833,\n",
       "       60.89864242, 47.46821839, 60.89864242, 73.83164334])"
      ]
     },
     "execution_count": 9,
     "metadata": {},
     "output_type": "execute_result"
    }
   ],
   "source": [
    "# 3) Let us now use GradientBoostingRegressor with 50 estimators to train the model and to predict the age for the same inputs.\n",
    "GB=GradientBoostingRegressor(n_estimators=50)\n",
    "GB.fit(X,Y)\n",
    "Y_predict=GB.predict(X) #ages predicted by model with 50 estimators\n",
    "Y_predict"
   ]
  },
  {
   "cell_type": "code",
   "execution_count": 10,
   "id": "ef0e6343",
   "metadata": {},
   "outputs": [
    {
     "name": "stdout",
     "output_type": "stream",
     "text": [
      "MSE for fifty estimators : 156.5667260994211\n"
     ]
    }
   ],
   "source": [
    "#Following code is used to find out MSE of prediction with Gradient boosting algorithm having estimator 50.\n",
    "MSE_50=(sum((Y-Y_predict)**2))/len(Y)\n",
    "print('MSE for fifty estimators :',MSE_50)"
   ]
  },
  {
   "cell_type": "code",
   "execution_count": null,
   "id": "1308bd4b",
   "metadata": {},
   "outputs": [],
   "source": []
  }
 ],
 "metadata": {
  "kernelspec": {
   "display_name": "Python 3 (ipykernel)",
   "language": "python",
   "name": "python3"
  },
  "language_info": {
   "codemirror_mode": {
    "name": "ipython",
    "version": 3
   },
   "file_extension": ".py",
   "mimetype": "text/x-python",
   "name": "python",
   "nbconvert_exporter": "python",
   "pygments_lexer": "ipython3",
   "version": "3.10.9"
  }
 },
 "nbformat": 4,
 "nbformat_minor": 5
}
